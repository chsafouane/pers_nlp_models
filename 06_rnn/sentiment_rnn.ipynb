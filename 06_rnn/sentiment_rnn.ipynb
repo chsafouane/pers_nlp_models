{
 "cells": [
  {
   "cell_type": "code",
   "execution_count": 1,
   "metadata": {},
   "outputs": [],
   "source": [
    "from collections import defaultdict\n",
    "import numpy as np\n",
    "\n",
    "import torch\n",
    "import torch.nn as nn"
   ]
  },
  {
   "cell_type": "code",
   "execution_count": 29,
   "metadata": {},
   "outputs": [],
   "source": [
    "device = \"mps\" if torch.backends.mps.is_available() else \"cpu\""
   ]
  },
  {
   "cell_type": "code",
   "execution_count": 7,
   "metadata": {},
   "outputs": [],
   "source": [
    "def read_dataset(filename):\n",
    "    with open(filename, \"r\") as f:\n",
    "        for line in f:\n",
    "            tag, words = line.lower().strip().split(\" ||| \")\n",
    "            yield ([w2i[x] for x in words.split(\" \")], t2i[tag])"
   ]
  },
  {
   "cell_type": "code",
   "execution_count": 15,
   "metadata": {},
   "outputs": [],
   "source": [
    "w2i = defaultdict(lambda: len(w2i))\n",
    "t2i = defaultdict(lambda: len(t2i))\n",
    "UNK = w2i[\"<unk>\"]\n",
    "PAD = w2i[\"<pad>\"]\n",
    "\n",
    "train = list(read_dataset(\"../data/classes/train.txt\"))\n",
    "w2i = defaultdict(lambda: UNK, w2i)\n",
    "dev = list(read_dataset(\"../data/classes/dev.txt\"))\n",
    "\n",
    "n_words = len(w2i)\n",
    "n_classes = len(t2i)"
   ]
  },
  {
   "cell_type": "code",
   "execution_count": 16,
   "metadata": {},
   "outputs": [
    {
     "name": "stdout",
     "output_type": "stream",
     "text": [
      "Number of words in the vocab: 17615\n",
      "Number of classes: 5\n"
     ]
    }
   ],
   "source": [
    "print(f\"Number of words in the vocab: {n_words}\")\n",
    "print(f\"Number of classes: {n_classes}\")"
   ]
  },
  {
   "cell_type": "code",
   "execution_count": 80,
   "metadata": {},
   "outputs": [],
   "source": [
    "class RNNModel(nn.Module):\n",
    "    def __init__(self, vocab_size, embedding_dim, hidden_dim, n_classes):\n",
    "        super(RNNModel, self).__init__()\n",
    "        \n",
    "        self.embedding = nn.Embedding(num_embeddings=vocab_sizes, embedding_dim=embedding_dim)\n",
    "        self.rnn = nn.RNN(input_size=embedding_dim, hidden_size=hidden_dim, nonlinearity=\"relu\", batch_first=True)\n",
    "        self.linear = nn.Linear(hidden_dim, n_classes)\n",
    "        \n",
    "    def forward(self, words):\n",
    "        embedded_inputs = self.embedding(words) # Size: batch_size * sentence_length * embedding_dim\n",
    "        outputs_rnn, hidden_rnn = self.rnn(embedded_inputs) # Size: Batch_size * sentence_length * hidden_dim - Size: Batch_size * 1 * hidden_dim\n",
    "        outputs_linear = self.linear(hidden_rnn) # Size: batch_size, hidden_dim, n_classes\n",
    "        return outputs_linear.view(-1)\n"
   ]
  },
  {
   "cell_type": "code",
   "execution_count": 81,
   "metadata": {},
   "outputs": [],
   "source": [
    "rnn_model = RNNModel(n_words, 100, 10, 5)"
   ]
  },
  {
   "cell_type": "code",
   "execution_count": 82,
   "metadata": {},
   "outputs": [
    {
     "data": {
      "text/plain": [
       "RNNModel(\n",
       "  (embedding): Embedding(17615, 100)\n",
       "  (rnn): RNN(100, 10, batch_first=True)\n",
       "  (linear): Linear(in_features=10, out_features=5, bias=True)\n",
       ")"
      ]
     },
     "execution_count": 82,
     "metadata": {},
     "output_type": "execute_result"
    }
   ],
   "source": [
    "rnn_model"
   ]
  },
  {
   "cell_type": "code",
   "execution_count": 83,
   "metadata": {},
   "outputs": [],
   "source": [
    "for words, sent_class in train:\n",
    "    words_tensor = torch.tensor(words).reshape(1, -1)\n",
    "    # train_tensor = torch.tensor([train])\n",
    "    outout = rnn_model(words_tensor)\n",
    "    break"
   ]
  },
  {
   "cell_type": "code",
   "execution_count": 84,
   "metadata": {},
   "outputs": [
    {
     "data": {
      "text/plain": [
       "tensor([-0.5249,  0.1665, -1.0410, -0.1782, -0.2054], grad_fn=<ViewBackward0>)"
      ]
     },
     "execution_count": 84,
     "metadata": {},
     "output_type": "execute_result"
    }
   ],
   "source": [
    "outout"
   ]
  },
  {
   "cell_type": "markdown",
   "metadata": {},
   "source": [
    "# Note: \n",
    "For the brave soul (and the one that has enough time to play with this), as I don't have enough time to preprocess the data, I'm going to stop here but keep these points in mind:\n",
    "\n",
    "1- Sentences in the same batch need to have the same length, so pad them with <PAD>\n",
    "2- Use cross-entropy as the loss function as the outputs correspond to logits\n",
    "3- The goal of this notebook was just to implement a vanilla RNN and not to get the dimensions mixed up"
   ]
  }
 ],
 "metadata": {
  "kernelspec": {
   "display_name": "Python 3 (ipykernel)",
   "language": "python",
   "name": "python3"
  },
  "language_info": {
   "codemirror_mode": {
    "name": "ipython",
    "version": 3
   },
   "file_extension": ".py",
   "mimetype": "text/x-python",
   "name": "python",
   "nbconvert_exporter": "python",
   "pygments_lexer": "ipython3",
   "version": "3.9.16"
  }
 },
 "nbformat": 4,
 "nbformat_minor": 4
}
