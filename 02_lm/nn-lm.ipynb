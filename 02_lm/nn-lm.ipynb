{
 "cells": [
  {
   "cell_type": "code",
   "execution_count": 12,
   "metadata": {},
   "outputs": [],
   "source": [
    "from typing import List\n",
    "from collections import defaultdict\n",
    "import math\n",
    "import time\n",
    "import random\n",
    "import os, sys\n",
    "\n",
    "import numpy as np"
   ]
  },
  {
   "cell_type": "code",
   "execution_count": 13,
   "metadata": {},
   "outputs": [],
   "source": [
    "import torch\n",
    "import torch.nn as nn"
   ]
  },
  {
   "cell_type": "code",
   "execution_count": 14,
   "metadata": {},
   "outputs": [],
   "source": [
    "device = \"mps\" if torch.backends.mps.is_available() else \"cpu\""
   ]
  },
  {
   "cell_type": "code",
   "execution_count": 15,
   "metadata": {},
   "outputs": [],
   "source": [
    "def read_dataset(filename):\n",
    "    with open(filename, \"r\") as f:\n",
    "        for line in f:\n",
    "            yield [w2i[x] for x in line.strip().split(\" \")]\n",
    "\n",
    "def convert_to_model_data(dataset: List[List[int]], n_gram:int):\n",
    "    x, y = list(), list()\n",
    "    for sentence in dataset:\n",
    "        sentence_length = len(sentence)\n",
    "        sentence = [S] * n_gram + sentence + [S]\n",
    "        for i in range(sentence_length):\n",
    "            x.append(sentence[i: i+n_gram])\n",
    "            y.append(sentence[i+n_gram])\n",
    "    return x, y"
   ]
  },
  {
   "cell_type": "code",
   "execution_count": 16,
   "metadata": {},
   "outputs": [],
   "source": [
    "context_size = 3\n",
    "\n",
    "w2i = defaultdict(lambda: len(w2i))\n",
    "S = w2i[\"<s>\"]\n",
    "UNK = w2i[\"<unk>\"]\n",
    "\n",
    "# Training set\n",
    "train = list(read_dataset(\"../data/ptb/train.txt\"))\n",
    "random.shuffle(train)\n",
    "x_train, y_train = convert_to_model_data(train, context_size)\n",
    "x_train, y_train = torch.tensor(x_train, device=device), torch.tensor(y_train, device=device)\n",
    "\n",
    "# Dev set\n",
    "w2i = defaultdict(lambda: UNK, w2i)\n",
    "dev = list(read_dataset(\"../data/ptb/valid.txt\"))\n",
    "x_dev, y_dev = convert_to_model_data(dev, context_size)\n",
    "x_dev, y_dev = torch.tensor(x_dev, device=device), torch.tensor(y_dev, device=device)\n",
    "\n"
   ]
  },
  {
   "attachments": {},
   "cell_type": "markdown",
   "metadata": {},
   "source": [
    "# Feed-forward neural network model"
   ]
  },
  {
   "cell_type": "code",
   "execution_count": 17,
   "metadata": {},
   "outputs": [],
   "source": [
    "class FNN_LM(nn.Module):\n",
    "    def __init__(self, vocab_size, embedding_dim, hidden_size, context_size, dropout_prob=0):\n",
    "        super(FNN_LM, self).__init__()\n",
    "\n",
    "        self.embedding_dim = embedding_dim\n",
    "        self.hidden_size = hidden_size\n",
    "        self.context_size = context_size\n",
    "        self.dropout_prob = dropout_prob\n",
    "        \n",
    "        self.embedding = nn.Embedding(vocab_size, embedding_dim, device=device)\n",
    "        self.fnn = nn.Sequential(\n",
    "            nn.Linear(context_size * embedding_dim, hidden_size, device=device),\n",
    "            nn.Tanh(),\n",
    "            nn.Dropout(dropout_prob),\n",
    "            nn.Linear(hidden_size, vocab_size, device=device),\n",
    "        )\n",
    "\n",
    "    def forward(self, words):\n",
    "        embeddings = self.embedding(words) # Size: batch_size, context_size, embedding_dim\n",
    "        embeddings = embeddings.reshape(-1, self.context_size * self.embedding_dim)\n",
    "        outputs = self.fnn(embeddings) # Size: batch_size, vocab_size\n",
    "        return outputs"
   ]
  },
  {
   "cell_type": "markdown",
   "metadata": {},
   "source": [
    "The training is just to see whether the implementation works or not. This is not the right way to train such a model"
   ]
  },
  {
   "cell_type": "code",
   "execution_count": 18,
   "metadata": {},
   "outputs": [
    {
     "data": {
      "text/plain": [
       "torch.Size([887521, 3])"
      ]
     },
     "execution_count": 18,
     "metadata": {},
     "output_type": "execute_result"
    }
   ],
   "source": [
    "x_train.shape"
   ]
  },
  {
   "cell_type": "code",
   "execution_count": 19,
   "metadata": {},
   "outputs": [],
   "source": [
    "vocab_size = len(w2i)\n",
    "embedding_dim = 256\n",
    "hidden_size = 64"
   ]
  },
  {
   "cell_type": "code",
   "execution_count": 20,
   "metadata": {},
   "outputs": [],
   "source": [
    "model = FNN_LM(vocab_size, embedding_dim, hidden_size, context_size)\n",
    "loss_criterion = nn.CrossEntropyLoss()\n",
    "optimizer = torch.optim.Adam(model.parameters(), lr=0.1)"
   ]
  },
  {
   "cell_type": "code",
   "execution_count": 21,
   "metadata": {},
   "outputs": [
    {
     "data": {
      "text/plain": [
       "0.0001"
      ]
     },
     "execution_count": 21,
     "metadata": {},
     "output_type": "execute_result"
    }
   ],
   "source": [
    "1/len(w2i)"
   ]
  },
  {
   "cell_type": "code",
   "execution_count": 22,
   "metadata": {},
   "outputs": [
    {
     "name": "stdout",
     "output_type": "stream",
     "text": [
      "Train loss: 6.361086368560791 - Train accuracy: 0.0004495668271511322\n",
      "Train loss: 5.652867317199707 - Train accuracy: 0.0005318184020434446\n",
      "Train loss: 5.499007701873779 - Train accuracy: 0.0005757610242461868\n",
      "Train loss: 5.258009433746338 - Train accuracy: 0.0006151967108383914\n",
      "Train loss: 5.163666248321533 - Train accuracy: 0.0006332244532805421\n",
      "Train loss: 5.026402950286865 - Train accuracy: 0.0006557591313332304\n",
      "Train loss: 5.045945644378662 - Train accuracy: 0.0006670264703595746\n",
      "Train loss: 4.963106632232666 - Train accuracy: 0.0006782938093859188\n",
      "Train loss: 4.942806720733643 - Train accuracy: 0.0006861809467043596\n",
      "Train loss: 4.864715576171875 - Train accuracy: 0.0006929413501201661\n"
     ]
    }
   ],
   "source": [
    "n_epochs = 10\n",
    "batch_size = 16*2048\n",
    "\n",
    "n_batch = int(np.ceil(len(x_train)/batch_size))\n",
    "\n",
    "for epoch in range(n_epochs):\n",
    "    train_acc = 0\n",
    "    for batch in range(n_batch):\n",
    "        x_batch, y_batch = x_train[batch*batch_size:min((batch+1)*batch_size, len(x_train))], y_train[batch*batch_size:min((batch+1)*batch_size, len(x_train))]\n",
    "        scores = model(x_batch)\n",
    "        loss = loss_criterion(scores, y_batch)\n",
    "        # torch.argmax yields some weird results and don't have time\n",
    "        # to investigate this now\n",
    "        predictions = np.argmax(scores.cpu().detach().numpy(), axis=1)\n",
    "        train_acc = (predictions == y_batch.cpu().detach().numpy()).sum()\n",
    "        optimizer.zero_grad()\n",
    "        loss.backward()\n",
    "        optimizer.step()\n",
    "    print(f\"Train loss: {loss} - Train accuracy: {train_acc / len(x_train)}\")\n",
    "\n",
    "\n"
   ]
  }
 ],
 "metadata": {
  "kernelspec": {
   "display_name": "nnnlp_env",
   "language": "python",
   "name": "python3"
  },
  "language_info": {
   "codemirror_mode": {
    "name": "ipython",
    "version": 3
   },
   "file_extension": ".py",
   "mimetype": "text/x-python",
   "name": "python",
   "nbconvert_exporter": "python",
   "pygments_lexer": "ipython3",
   "version": "3.9.16"
  },
  "orig_nbformat": 4
 },
 "nbformat": 4,
 "nbformat_minor": 2
}
